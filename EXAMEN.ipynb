{
  "nbformat": 4,
  "nbformat_minor": 0,
  "metadata": {
    "colab": {
      "name": "EXAMEN.ipynb",
      "provenance": []
    },
    "kernelspec": {
      "name": "python3",
      "display_name": "Python 3"
    }
  },
  "cells": [
    {
      "cell_type": "markdown",
      "metadata": {
        "id": "dJx7TT5ixDrF"
      },
      "source": [
        "EXAMEN"
      ]
    },
    {
      "cell_type": "markdown",
      "metadata": {
        "id": "KPePQ0UBxTEQ"
      },
      "source": [
        "PROBLEMA 1"
      ]
    },
    {
      "cell_type": "code",
      "metadata": {
        "id": "f1ks0AMElwMe"
      },
      "source": [
        "while 1:\n",
        "  print(\"Este programa calcula las raices de ax^2+bx+c=0\")\n",
        "  a=float(input(\"Introduce el valor de a:\"))\n",
        "  b=float(input(\"Introduce el valor de b:\"))\n",
        "  c=float(input(\"Introduce el valor de c:\"))\n",
        "\n",
        "  d=(b*b)-4*a*c\n",
        "\n",
        "  if d<0:\n",
        "    print(\"Error, el discriminante debe ser positivo\")\n",
        "  else: \n",
        "    x1=((-b+(d)**0.5))/(2*a)\n",
        "    x2=((-b-(d)**0.5))/(2*a)\n",
        "    print(\"Solucion x1:\",x1)\n",
        "    print(\"Solucion x2:\",x2)\n",
        "    break"
      ],
      "execution_count": null,
      "outputs": []
    },
    {
      "cell_type": "markdown",
      "metadata": {
        "id": "8ykNKdQVxXEz"
      },
      "source": [
        "PROBLEMA 2"
      ]
    },
    {
      "cell_type": "code",
      "metadata": {
        "id": "XHyLKOsDxHRt",
        "outputId": "49edb44d-410e-4c9a-cf4f-d070ffaa804d",
        "colab": {
          "base_uri": "https://localhost:8080/"
        }
      },
      "source": [
        "def Funcion(num1):\n",
        "  print(\"La funcion de x es:\",(x**2)+(3*x)+3)\n",
        "  return (x**2)+(3*x)+3\n",
        "\n",
        "print(\"Sea la funcion x^2+3x+3\")\n",
        "x= float(input(\"Introduce el valor de x:\"))\n",
        "\n",
        "fx=Funcion(x)\n",
        "\n",
        "A=[contador]\n",
        "contador= fx\n",
        "while contador >=-4 and contador<= 10:\n",
        "    contador=contador+1\n",
        "    print(A)\n",
        "    if contador >=30:\n",
        "      continue\n",
        "\n",
        "    print(contador)\n",
        "  "
      ],
      "execution_count": 64,
      "outputs": [
        {
          "output_type": "stream",
          "text": [
            "Sea la funcion x^2+3x+3\n",
            "Introduce el valor de x:30\n",
            "La funcion de x es: 993.0\n"
          ],
          "name": "stdout"
        }
      ]
    }
  ]
}